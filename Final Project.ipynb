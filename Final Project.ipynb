{
 "cells": [
  {
   "cell_type": "markdown",
   "id": "c182b73c-fe6e-4edb-b920-796302f0d934",
   "metadata": {},
   "source": [
    "# Final Project"
   ]
  },
  {
   "cell_type": "markdown",
   "id": "86a5ba74-04bc-4f9c-a8e8-f365e14194f6",
   "metadata": {},
   "source": [
    "This projects aims to identify areas on campus with the best and work connectivity statuses on campus."
   ]
  },
  {
   "cell_type": "markdown",
   "id": "3e9ca210-0615-4bfe-aef5-c5f492cc751d",
   "metadata": {},
   "source": [
    "### Setting up the imports and connection parameters"
   ]
  },
  {
   "cell_type": "code",
   "execution_count": 66,
   "id": "edc19fb5-2826-4da7-860b-e6bf2e64e9d3",
   "metadata": {},
   "outputs": [],
   "source": [
    "import psycopg2\n",
    "import pandas as pd\n",
    "import requests\n",
    "from bs4 import BeautifulSoup\n",
    "from sqlalchemy import create_engine\n",
    "from sklearn.model_selection import train_test_split, cross_val_score\n",
    "from sklearn.ensemble import RandomForestClassifier\n",
    "from sklearn.metrics import classification_report, accuracy_score, mean_squared_error\n",
    "from sklearn.preprocessing import LabelEncoder\n",
    "import matplotlib.pyplot as plt\n",
    "import numpy as np"
   ]
  },
  {
   "cell_type": "code",
   "execution_count": 18,
   "id": "6aaca849-f456-4efb-901c-8aaa36a1902d",
   "metadata": {},
   "outputs": [],
   "source": [
    "host = \"###\"\n",
    "database = \"###\"\n",
    "user = \"###\"\n",
    "password = \"###\"\n",
    "port = \"###\""
   ]
  },
  {
   "cell_type": "markdown",
   "id": "51591918-852f-497a-be25-0d79f4d4bada",
   "metadata": {},
   "source": [
    "## Get data from database"
   ]
  },
  {
   "cell_type": "code",
   "execution_count": 165,
   "id": "6162e7b0-db2e-43aa-967d-3bf40305ddda",
   "metadata": {},
   "outputs": [
    {
     "name": "stdout",
     "output_type": "stream",
     "text": [
      "Connection successful\n",
      "\n",
      "Combined DataFrame shape: (4360431, 17)\n",
      "                          label       ethernet_mac           wlan_mac  \\\n",
      "120426  raspi-e4:5f:01:a0:4e:31  e4:5f:01:a0:4e:31  e4:5f:01:a0:4e:32   \n",
      "120427  raspi-e4:5f:01:a0:4e:31  e4:5f:01:a0:4e:31  e4:5f:01:a0:4e:32   \n",
      "120428  raspi-e4:5f:01:a0:4e:31  e4:5f:01:a0:4e:31  e4:5f:01:a0:4e:32   \n",
      "120429  raspi-e4:5f:01:a0:4e:31  e4:5f:01:a0:4e:31  e4:5f:01:a0:4e:32   \n",
      "120430  raspi-e4:5f:01:a0:4e:31  e4:5f:01:a0:4e:31  e4:5f:01:a0:4e:32   \n",
      "\n",
      "              location                         tags comment  \\\n",
      "120426  Figueroa, 2507  [UCSB, Manzanita, Figueroa]    None   \n",
      "120427  Figueroa, 2507  [UCSB, Manzanita, Figueroa]    None   \n",
      "120428  Figueroa, 2507  [UCSB, Manzanita, Figueroa]    None   \n",
      "120429  Figueroa, 2507  [UCSB, Manzanita, Figueroa]    None   \n",
      "120430  Figueroa, 2507  [UCSB, Manzanita, Figueroa]    None   \n",
      "\n",
      "                                                   uptime  wireless_bytes  \\\n",
      "120426   01:09:22 up 19 days, 14:03,  0 users,  load a...    1.438315e+11   \n",
      "120427   01:09:22 up 19 days, 14:03,  0 users,  load a...    1.438315e+11   \n",
      "120428   01:09:22 up 19 days, 14:03,  0 users,  load a...    1.438315e+11   \n",
      "120429   01:09:22 up 19 days, 14:03,  0 users,  load a...    1.438315e+11   \n",
      "120430   01:09:22 up 19 days, 14:03,  0 users,  load a...    1.438315e+11   \n",
      "\n",
      "        wired_bytes                  last_seen                       time  \\\n",
      "120426          0.0 2024-12-14 01:09:37.668751 2023-07-22 05:48:48.579524   \n",
      "120427          0.0 2024-12-14 01:09:37.668751 2023-07-22 05:59:04.263307   \n",
      "120428          0.0 2024-12-14 01:09:37.668751 2023-07-22 06:09:30.106449   \n",
      "120429          0.0 2024-12-14 01:09:37.668751 2023-07-22 06:19:45.799984   \n",
      "120430          0.0 2024-12-14 01:09:37.668751 2023-07-22 06:30:01.348166   \n",
      "\n",
      "                                                     ping  signal  \\\n",
      "120426  rtt min/avg/max/mdev = 2.921/3.983/7.005/1.523 ms   -60.0   \n",
      "120427  rtt min/avg/max/mdev = 2.821/3.159/3.695/0.293 ms   -59.0   \n",
      "120428  rtt min/avg/max/mdev = 2.977/4.075/6.498/1.243 ms   -59.0   \n",
      "120429  rtt min/avg/max/mdev = 3.000/4.152/6.092/1.104 ms   -59.0   \n",
      "120430  rtt min/avg/max/mdev = 2.750/3.147/3.537/0.313 ms   -59.0   \n",
      "\n",
      "         tx_bitrate   rx_bitrate   connected_time  packet_loss  \n",
      "120426  65.0 MBit/s  58.5 MBit/s  2476853 seconds          0.0  \n",
      "120427  65.0 MBit/s  58.5 MBit/s  2477477 seconds          0.0  \n",
      "120428  72.2 MBit/s  72.2 MBit/s  2478092 seconds          0.0  \n",
      "120429  65.0 MBit/s  58.5 MBit/s  2478716 seconds          0.0  \n",
      "120430  65.0 MBit/s  58.5 MBit/s  2479330 seconds          0.0  \n",
      "Data successfully merged.\n",
      "\n",
      "Connection closed\n",
      "\n"
     ]
    }
   ],
   "source": [
    "try:\n",
    "    # Connect to PostgreSQL database using psycopg2\n",
    "    conn = psycopg2.connect(host=host, database=database, user=user, password=password)\n",
    "    print(\"Connection successful\\n\")\n",
    "    cursor = conn.cursor()\n",
    "\n",
    "    # get data from devices\n",
    "    query_devices = \"SELECT * FROM devices;\"\n",
    "    cursor.execute(query_devices)\n",
    "    devices_results = cursor.fetchall()\n",
    "\n",
    "    # get data from wifi stats\n",
    "    query_wifistats = \"SELECT * FROM wifistats;\"\n",
    "    cursor.execute(query_wifistats)\n",
    "    wifistats_results = cursor.fetchall()\n",
    "\n",
    "    # order columns\n",
    "    devices_columns = ['label', 'ethernet_mac', 'wlan_mac', 'location', 'tags', 'comment', 'uptime', 'wireless_bytes', 'wired_bytes', 'last_seen']\n",
    "    wifistats_columns = ['label', 'time', 'ping', 'signal', 'tx_bitrate', 'rx_bitrate', 'connected_time', 'packet_loss']\n",
    "    devices_df = pd.DataFrame(devices_results, columns=devices_columns)\n",
    "    wifistats_df = pd.DataFrame(wifistats_results, columns=wifistats_columns)\n",
    "\n",
    "    # merge pre-processing\n",
    "    devices_df['label'] = devices_df['label'].astype(str).str.strip()  # Remove extra spaces\n",
    "    wifistats_df['label'] = wifistats_df['label'].astype(str).str.strip()\n",
    "    devices_df = devices_df.dropna(subset=['label'])\n",
    "    wifistats_df = wifistats_df.dropna(subset=['label'])\n",
    "\n",
    "    # merge tables\n",
    "    df_combined = pd.merge(devices_df, wifistats_df, on=\"label\", how=\"outer\")\n",
    "    df_combined = df_combined.dropna(subset=['location'])\n",
    "\n",
    "    # print to confirm success\n",
    "    # print(f\"Combined DataFrame shape: {df_combined.shape}\")\n",
    "    # print(df_combined.head())\n",
    "    print(\"Data successfully merged.\\n\")\n",
    "\n",
    "except Exception as e:\n",
    "    print(f\"Database error: {e}\")\n",
    "    df_combined = pd.DataFrame()  \n",
    "\n",
    "finally:\n",
    "    if conn:\n",
    "        conn.close()  # Close the connection\n",
    "        print(\"Connection closed\\n\")"
   ]
  },
  {
   "cell_type": "markdown",
   "id": "a809e2bb-abe2-4906-b17d-33014fee7705",
   "metadata": {},
   "source": [
    "## Find Locations with Poorest Connecitity"
   ]
  },
  {
   "cell_type": "markdown",
   "id": "a1baf043-06d6-46a3-867a-c0f16dfa6320",
   "metadata": {},
   "source": [
    "### Data Pre-processing"
   ]
  },
  {
   "cell_type": "code",
   "execution_count": 166,
   "id": "2479f158-0a1a-4910-af5d-90fa9cb5f4a4",
   "metadata": {},
   "outputs": [
    {
     "name": "stdout",
     "output_type": "stream",
     "text": [
      "Top 10 places with the poorest connectivity within all PINOT nodes:\n",
      "                           label                                    location  \\\n",
      "730314   raspi-e4:5f:01:75:71:17                                      Goleta   \n",
      "730315   raspi-e4:5f:01:56:d7:ef                                      Goleta   \n",
      "1627471  raspi-e4:5f:01:a7:b1:af                               Miranda, 3419   \n",
      "2313195  raspi-e4:5f:01:84:7f:76                                  Zaca, 3015   \n",
      "3550188  raspi-e4:5f:01:a7:b1:e5  SRB, 1st floor, behind a wooden false-wall   \n",
      "2885182  raspi-e4:5f:01:a7:b2:7e                               Camuesa, 3123   \n",
      "4115598  raspi-e4:5f:01:a7:ae:70                               Madulce, 2408   \n",
      "1305136  raspi-e4:5f:01:a7:b2:7b                               Tenaya, 6107B   \n",
      "4431303  raspi-e4:5f:01:9b:84:fa                           San Nicolas, 8209   \n",
      "1676419  raspi-e4:5f:01:75:ad:ce                           San Nicolas, 1149   \n",
      "\n",
      "         connectivity_score  \n",
      "730314            10.000033  \n",
      "730315            10.000033  \n",
      "1627471            6.669333  \n",
      "2313195            6.668000  \n",
      "3550188            6.668000  \n",
      "2885182            6.667999  \n",
      "4115598            6.667999  \n",
      "1305136            6.666667  \n",
      "4431303            6.666667  \n",
      "1676419            6.666667  \n",
      "Connection closed\n",
      "\n"
     ]
    }
   ],
   "source": [
    "try:\n",
    "    df_combined['packet_loss'] = pd.to_numeric(df_combined['packet_loss'], errors='coerce')\n",
    "    df_combined['signal'] = pd.to_numeric(df_combined['signal'], errors='coerce')\n",
    "    df_combined['tx_bitrate'] = pd.to_numeric(df_combined['tx_bitrate'], errors='coerce')\n",
    "    df_combined['rx_bitrate'] = pd.to_numeric(df_combined['rx_bitrate'], errors='coerce')\n",
    "    \n",
    "    # replace NaN with 0 for calculations\n",
    "    df_combined['tx_bitrate'] = df_combined['tx_bitrate'].fillna(0)\n",
    "    df_combined['rx_bitrate'] = df_combined['rx_bitrate'].fillna(0)\n",
    "    df_combined['packet_loss'] = df_combined['packet_loss'].fillna(0)\n",
    "    df_combined['signal'] = df_combined['signal'].fillna(0)\n",
    "\n",
    "    # get average RTT from the 'ping' for analysis\n",
    "    def extract_avg_rtt(ping_str):\n",
    "        try:\n",
    "            avg_rtt = float(ping_str.split('=')[1].split('/')[1].strip())\n",
    "            return avg_rtt\n",
    "        except Exception as e:\n",
    "            return np.nan  \n",
    "    df_combined['avg_rtt'] = df_combined['ping'].apply(extract_avg_rtt)\n",
    "    df_combined['avg_rtt'] = df_combined['avg_rtt'].fillna(1000)\n",
    "\n",
    "    # Connectivity score (lower score = better connectivity)\n",
    "    df_combined['connectivity_score'] = ((\n",
    "        df_combined['packet_loss'] * 2 +  # Weight packet loss more\n",
    "        (1 / (df_combined['signal'] + 1e-5)) +  # Lower signal is worse, adding a small value to avoid division by zero\n",
    "        (1 / (df_combined['tx_bitrate'] + 1e-5)) +  # Lower tx_bitrate is worse\n",
    "        (1 / (df_combined['rx_bitrate'] + 1e-5)) +  # Lower rx_bitrate is worse\n",
    "        (df_combined['avg_rtt'] / 1000)  # Normalize RTT to seconds and add to the score\n",
    "    ) / 30000)\n",
    "\n",
    "    # Categorize scores\n",
    "    bins = [0, 6., 11]  \n",
    "    labels = ['Low', 'High']\n",
    "    df_combined['connectivity_category'] = pd.cut(df_combined['connectivity_score'], bins=bins, labels=labels)\n",
    "    df_combined_unique = df_combined.drop_duplicates(subset=['label', 'location'], keep='first')\n",
    "    df_sorted = df_combined_unique.sort_values(by='connectivity_score', ascending=False)\n",
    "    \n",
    "    # Get the top 10 places with the poorest connectivity from all nodes\n",
    "    top_10_poor_places = df_sorted[['label', 'location', 'connectivity_score']].head(10)\n",
    "    print(\"Top 10 places with the poorest connectivity within all PINOT nodes:\")\n",
    "    print(top_10_poor_places)\n",
    "\n",
    "except Exception as e:\n",
    "    print(f\"Database error: {e}\")\n",
    "    df_combined = pd.DataFrame()  # Empty DataFrame to avoid breaking the rest of the script\n",
    "\n",
    "finally:\n",
    "    if conn:\n",
    "        conn.close()  # Close the connection\n",
    "        print(\"Connection closed\\n\")"
   ]
  },
  {
   "cell_type": "markdown",
   "id": "c3412a86-9164-4511-a62e-48e6a989d98a",
   "metadata": {},
   "source": [
    "## Training the Model"
   ]
  },
  {
   "cell_type": "code",
   "execution_count": 167,
   "id": "37c3b148-2928-4d18-b2be-21813c1177a9",
   "metadata": {},
   "outputs": [],
   "source": [
    "X = df_combined[['packet_loss', 'signal', 'tx_bitrate', 'rx_bitrate']]\n",
    "y = df_combined['connectivity_category']  # ie low, high conenctivity\n",
    "\n",
    "# split data into training and test data\n",
    "X_train, X_test, y_train, y_test = train_test_split(X, y, test_size=0.2, random_state=42)\n",
    "\n",
    "# RandomForestClassifier\n",
    "rf = RandomForestClassifier(n_estimators=100, random_state=42)\n",
    "rf.fit(X_train, y_train)\n",
    "y_pred = rf.predict(X_test)"
   ]
  },
  {
   "cell_type": "markdown",
   "id": "2928b49f-2e01-421a-ba5c-ced3b37203ac",
   "metadata": {},
   "source": [
    "## Model Report"
   ]
  },
  {
   "cell_type": "code",
   "execution_count": 168,
   "id": "1d4879d8-2583-45b6-8212-4856cd063c0e",
   "metadata": {},
   "outputs": [
    {
     "name": "stdout",
     "output_type": "stream",
     "text": [
      "Training Accuracy: 1.0000\n",
      "Test Accuracy: 1.0000\n",
      "\n"
     ]
    }
   ],
   "source": [
    "rf.fit(X_train, y_train)\n",
    "# training data\n",
    "y_train_pred = rf.predict(X_train)\n",
    "train_accuracy = accuracy_score(y_train, y_train_pred)\n",
    "print(f\"Training Accuracy: {train_accuracy:.4f}\")\n",
    "\n",
    "# test data\n",
    "y_test_pred = rf.predict(X_test)\n",
    "test_accuracy = accuracy_score(y_test, y_test_pred)\n",
    "print(f\"Test Accuracy: {test_accuracy:.4f}\\n\")\n",
    "\n",
    "# Classification report\n",
    "#print(classification_report(y_test, y_test_pred))"
   ]
  },
  {
   "cell_type": "markdown",
   "id": "020da936-da16-4dfe-988a-4a9d75752eef",
   "metadata": {},
   "source": [
    "## Location based On Connectivity Status"
   ]
  },
  {
   "cell_type": "code",
   "execution_count": 197,
   "id": "a13480bf-4e31-4c92-b7fe-778dde9ae532",
   "metadata": {
    "scrolled": true
   },
   "outputs": [
    {
     "name": "stdout",
     "output_type": "stream",
     "text": [
      "\n",
      "Top Locations with Worst Connectivity:\n",
      "╒══════════════════╤════════════════════════════════╤══════════════════════╕\n",
      "│ location         │ predicted_connectivity_state   │   connectivity_score │\n",
      "╞══════════════════╪════════════════════════════════╪══════════════════════╡\n",
      "│ Castaic, 3112    │ High                           │              6.668   │\n",
      "├──────────────────┼────────────────────────────────┼──────────────────────┤\n",
      "│ Caviota, 3015    │ High                           │              6.668   │\n",
      "├──────────────────┼────────────────────────────────┼──────────────────────┤\n",
      "│ La Cumbre, 2207  │ High                           │              6.668   │\n",
      "├──────────────────┼────────────────────────────────┼──────────────────────┤\n",
      "│ San Miguel, 3426 │ High                           │              6.66667 │\n",
      "├──────────────────┼────────────────────────────────┼──────────────────────┤\n",
      "│ Rincon, 3505     │ High                           │              6.66667 │\n",
      "├──────────────────┼────────────────────────────────┼──────────────────────┤\n",
      "│ HFH 5163         │ High                           │              6.66667 │\n",
      "├──────────────────┼────────────────────────────────┼──────────────────────┤\n",
      "│ HFH, 5112        │ High                           │              6.66667 │\n",
      "├──────────────────┼────────────────────────────────┼──────────────────────┤\n",
      "│ Goleta           │ High                           │              6.66667 │\n",
      "├──────────────────┼────────────────────────────────┼──────────────────────┤\n",
      "│ Ramona, 4123     │ High                           │              6.66667 │\n",
      "├──────────────────┼────────────────────────────────┼──────────────────────┤\n",
      "│ Arguello, 2319   │ High                           │              6.66667 │\n",
      "╘══════════════════╧════════════════════════════════╧══════════════════════╛\n"
     ]
    }
   ],
   "source": [
    "X_unique = df_unique_locations[['packet_loss', 'signal', 'tx_bitrate', 'rx_bitrate']]\n",
    "predictions = rf.predict(X_unique)\n",
    "\n",
    "df_unique_locations['predicted_connectivity_state'] = predictions\n",
    "df_unique_locations['connectivity_score'] = df_combined.loc[df_combined.index.isin(df_unique_locations.index), 'connectivity_score']\n",
    "df_unique_locations_sorted = df_unique_locations.sort_values(by=['predicted_connectivity_category', 'connectivity_score'], ascending=[True, False])\n",
    "\n",
    "top_low = df_unique_locations[df_unique_locations['predicted_connectivity_category'] == 'Low'].nlargest(10, 'connectivity_score')\n",
    "table_data = top_low[['location', 'predicted_connectivity_state', 'connectivity_score']]\n",
    "table = tabulate(table_data, headers='keys', tablefmt='fancy_grid', showindex=False)\n",
    "print(\"\\nTop Locations with Worst Connectivity:\")\n",
    "print(table)"
   ]
  },
  {
   "cell_type": "markdown",
   "id": "6136acc8-b648-4e31-998e-93950ddc6761",
   "metadata": {},
   "source": [
    "## Graphs for report"
   ]
  },
  {
   "cell_type": "code",
   "execution_count": 188,
   "id": "d0e977d0-0523-4ee2-969e-1244100b281f",
   "metadata": {},
   "outputs": [
    {
     "data": {
      "image/png": "[encoded data removed]",
      "text/plain": [
       "<Figure size 640x480 with 1 Axes>"
      ]
     },
     "metadata": {},
     "output_type": "display_data"
    }
   ],
   "source": [
    "# Connectivity Score Distribution by Category\n",
    "sns.violinplot(x='predicted_connectivity_category', y='connectivity_score', data=df_unique_locations)\n",
    "plt.title('Connectivity Score Distribution by Category')\n",
    "plt.xlabel('Connectivity Category')\n",
    "plt.ylabel('Connectivity Score')\n",
    "plt.show()"
   ]
  }
 ],
 "metadata": {
  "kernelspec": {
   "display_name": "Python 3 (ipykernel)",
   "language": "python",
   "name": "python3"
  },
  "language_info": {
   "codemirror_mode": {
    "name": "ipython",
    "version": 3
   },
   "file_extension": ".py",
   "mimetype": "text/x-python",
   "name": "python",
   "nbconvert_exporter": "python",
   "pygments_lexer": "ipython3",
   "version": "3.11.7"
  }
 },
 "nbformat": 4,
 "nbformat_minor": 5
}
